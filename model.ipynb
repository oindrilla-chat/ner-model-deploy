{
 "cells": [
  {
   "cell_type": "markdown",
   "id": "d7db8ba1-0f78-4edb-b23a-bfaa08ded3de",
   "metadata": {},
   "source": [
    "# Predict NER Model"
   ]
  },
  {
   "cell_type": "code",
   "execution_count": 8,
   "id": "1a282bad-13a8-4046-8a2f-bf999e9b717a",
   "metadata": {},
   "outputs": [],
   "source": [
    "requirements = [[\"spacy\", \"3.0.6\"]]"
   ]
  },
  {
   "cell_type": "code",
   "execution_count": 3,
   "id": "454a1c25-00aa-412e-932a-0755573daf43",
   "metadata": {},
   "outputs": [],
   "source": [
    "import spacy"
   ]
  },
  {
   "cell_type": "code",
   "execution_count": 5,
   "id": "d61c2809-0839-42df-8783-7a5dfd11d8c6",
   "metadata": {},
   "outputs": [],
   "source": [
    "! python -m spacy download en_core_web_sm"
   ]
  },
  {
   "cell_type": "code",
   "execution_count": 11,
   "id": "13a6485e-f14e-4c05-8dfb-80f7e4830483",
   "metadata": {},
   "outputs": [],
   "source": [
    "# my_bucket = \"DH-SECURE-OCHATTER\"\n",
    "# conn = boto3.client(service_name='s3',\n",
    "#         aws_access_key_id= os.environ.get(\"S3_ACCESS_KEY\"),\n",
    "#         aws_secret_access_key= os.environ.get(\"S3_SECRET_KEY\"),\n",
    "#         endpoint_url=os.environ.get(\"S3_ENDPOINT_URL\"))"
   ]
  },
  {
   "cell_type": "code",
   "execution_count": 12,
   "id": "6bdcb807-46ff-402a-9a62-d2ec82f65811",
   "metadata": {},
   "outputs": [],
   "source": [
    "# model_name = \"en_core_web_sm-3.0.0\"\n",
    "# model_path = \"model/\""
   ]
  },
  {
   "cell_type": "code",
   "execution_count": 13,
   "id": "87f504e4-dcdf-4bd5-8b84-1600163795be",
   "metadata": {},
   "outputs": [],
   "source": [
    "# file = tarfile.open(model_path + model_name + \".tar.gz\")\n",
    "# file.extractall(model_path)\n",
    "# file.close()"
   ]
  },
  {
   "cell_type": "code",
   "execution_count": 14,
   "id": "86ed9fdf-cb69-4897-866e-3142a1b7a6ac",
   "metadata": {},
   "outputs": [],
   "source": [
    "# nlp = spacy.load(model_path + model_name)"
   ]
  },
  {
   "cell_type": "code",
   "execution_count": 6,
   "id": "1c9b11e3-f752-4f37-a970-c875243365a1",
   "metadata": {},
   "outputs": [],
   "source": [
    "nlp = spacy.load(\"en_core_web_sm\")"
   ]
  },
  {
   "cell_type": "code",
   "execution_count": 8,
   "id": "14cbcf87-d2ed-40f6-8f09-56c84f98ce1e",
   "metadata": {},
   "outputs": [],
   "source": [
    "# print(\"Loaded model '%s'\" % model_name)"
   ]
  },
  {
   "cell_type": "markdown",
   "id": "a0d89d39-8982-457a-b44a-a24deb97133d",
   "metadata": {},
   "source": [
    "## Predictor and Validator"
   ]
  },
  {
   "cell_type": "code",
   "execution_count": 9,
   "id": "b8966981-10af-4e42-b433-718b551d5f35",
   "metadata": {},
   "outputs": [],
   "source": [
    "def predictor(feed_text):\n",
    "    \n",
    "    doc = nlp(feed_text)\n",
    "    return [(ent.text, ent.label_) for ent in doc.ents]"
   ]
  },
  {
   "cell_type": "code",
   "execution_count": 10,
   "id": "e16c6107-4d74-4be9-8e2c-b866459603ac",
   "metadata": {},
   "outputs": [],
   "source": [
    "def validator(x):\n",
    "    \n",
    "    return type(x) == str"
   ]
  }
 ],
 "metadata": {
  "kernelspec": {
   "display_name": "Python 3",
   "language": "python",
   "name": "python3"
  },
  "language_info": {
   "codemirror_mode": {
    "name": "ipython",
    "version": 3
   },
   "file_extension": ".py",
   "mimetype": "text/x-python",
   "name": "python",
   "nbconvert_exporter": "python",
   "pygments_lexer": "ipython3",
   "version": "3.8.3"
  }
 },
 "nbformat": 4,
 "nbformat_minor": 5
}
