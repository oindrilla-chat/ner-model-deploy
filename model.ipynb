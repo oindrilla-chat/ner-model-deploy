{
 "cells": [
  {
   "cell_type": "markdown",
   "metadata": {},
   "source": [
    "# Predict NER Model"
   ]
  },
  {
   "cell_type": "code",
   "execution_count": 1,
   "metadata": {},
   "outputs": [],
   "source": [
    "requirements = [[\"spacy\", \"3.0.6\"], [\"boto3\", \"1.9.205\"], [\"json\", \"1.4.2\"]]"
   ]
  },
  {
   "cell_type": "code",
   "execution_count": 33,
   "metadata": {},
   "outputs": [],
   "source": [
    "import spacy\n",
    "import os\n",
    "import boto3\n",
    "import json\n",
    "# from dotenv import load_dotenv, find_dotenv #while running locally"
   ]
  },
  {
   "cell_type": "code",
   "execution_count": 3,
   "metadata": {},
   "outputs": [
    {
     "data": {
      "text/plain": [
       "True"
      ]
     },
     "execution_count": 3,
     "metadata": {},
     "output_type": "execute_result"
    }
   ],
   "source": [
    "# load_dotenv(find_dotenv())"
   ]
  },
  {
   "cell_type": "code",
   "execution_count": 4,
   "metadata": {},
   "outputs": [],
   "source": [
    "my_bucket = \"DH-SECURE-OCHATTER\"\n",
    "conn = boto3.client(service_name='s3',\n",
    "        aws_access_key_id= os.environ.get(\"s3-access-key\"),\n",
    "        aws_secret_access_key= os.environ.get(\"s3-secret-key\"),\n",
    "        endpoint_url=os.environ.get(\"s3-endpoint-url\"))"
   ]
  },
  {
   "cell_type": "code",
   "execution_count": 5,
   "metadata": {},
   "outputs": [],
   "source": [
    "# following commented code is used for saving objects to the bucket and interacting with bucket\n",
    "# not neccesary in actual workflow"
   ]
  },
  {
   "cell_type": "code",
   "execution_count": 6,
   "metadata": {
    "scrolled": false
   },
   "outputs": [],
   "source": [
    "# for key in conn.list_objects(Bucket=my_bucket)['Contents']:\n",
    "#     print(key['Key'])"
   ]
  },
  {
   "cell_type": "code",
   "execution_count": 7,
   "metadata": {},
   "outputs": [],
   "source": [
    "# nlp = spacy.load(\"en_core_web_sm\")"
   ]
  },
  {
   "cell_type": "code",
   "execution_count": 8,
   "metadata": {},
   "outputs": [],
   "source": [
    "# config = nlp.config\n",
    "# bytes_data = nlp.to_bytes()"
   ]
  },
  {
   "cell_type": "code",
   "execution_count": 9,
   "metadata": {},
   "outputs": [],
   "source": [
    "# with open('config.json', 'w') as fp:\n",
    "#     json.dump(config, fp)\n",
    "\n",
    "# b = open('model_in_bytes', 'wb')\n",
    "# b.write(bytes_data)\n",
    "# b.close()"
   ]
  },
  {
   "cell_type": "code",
   "execution_count": 10,
   "metadata": {},
   "outputs": [],
   "source": [
    "# conn.upload_file(Filename='model_in_bytes',Bucket=my_bucket, Key='model_deploy/model_in_bytes')\n",
    "# conn.upload_file(Filename='config.json',Bucket=my_bucket, Key='model_deploy/config.json')"
   ]
  },
  {
   "cell_type": "code",
   "execution_count": 11,
   "metadata": {},
   "outputs": [],
   "source": [
    "obj1 = conn.get_object(Bucket=my_bucket, Key = 'model_deploy/model_in_bytes')"
   ]
  },
  {
   "cell_type": "code",
   "execution_count": 12,
   "metadata": {},
   "outputs": [
    {
     "data": {
      "text/plain": [
       "{'ResponseMetadata': {'RequestId': 'tx00000000000000e3d6727-0060c11cc3-652e5ed3-default',\n",
       "  'HostId': '',\n",
       "  'HTTPStatusCode': 200,\n",
       "  'HTTPHeaders': {'content-length': '15831120',\n",
       "   'accept-ranges': 'bytes',\n",
       "   'last-modified': 'Wed, 09 Jun 2021 19:22:31 GMT',\n",
       "   'x-rgw-object-type': 'Normal',\n",
       "   'etag': '\"1a191bd2ae70da9ba51204b2b31d7649-2\"',\n",
       "   'x-amz-request-id': 'tx00000000000000e3d6727-0060c11cc3-652e5ed3-default',\n",
       "   'content-type': 'binary/octet-stream',\n",
       "   'date': 'Wed, 09 Jun 2021 19:55:47 GMT',\n",
       "   'connection': 'Keep-Alive',\n",
       "   'strict-transport-security': 'max-age=31536000; includeSubDomains; preload'},\n",
       "  'RetryAttempts': 0},\n",
       " 'AcceptRanges': 'bytes',\n",
       " 'LastModified': datetime.datetime(2021, 6, 9, 19, 22, 31, tzinfo=tzutc()),\n",
       " 'ContentLength': 15831120,\n",
       " 'ETag': '\"1a191bd2ae70da9ba51204b2b31d7649-2\"',\n",
       " 'ContentType': 'binary/octet-stream',\n",
       " 'Metadata': {},\n",
       " 'Body': <botocore.response.StreamingBody at 0x7f1df68b2ef0>}"
      ]
     },
     "execution_count": 12,
     "metadata": {},
     "output_type": "execute_result"
    }
   ],
   "source": [
    "obj1"
   ]
  },
  {
   "cell_type": "code",
   "execution_count": 13,
   "metadata": {},
   "outputs": [],
   "source": [
    "obj2 = conn.get_object(Bucket=my_bucket, Key = 'model_deploy/config.json')"
   ]
  },
  {
   "cell_type": "code",
   "execution_count": 14,
   "metadata": {},
   "outputs": [
    {
     "data": {
      "text/plain": [
       "{'ResponseMetadata': {'RequestId': 'tx000000000000019be71f0-0060c11cc3-6078b25f-default',\n",
       "  'HostId': '',\n",
       "  'HTTPStatusCode': 200,\n",
       "  'HTTPHeaders': {'content-length': '5017',\n",
       "   'accept-ranges': 'bytes',\n",
       "   'last-modified': 'Wed, 09 Jun 2021 19:22:31 GMT',\n",
       "   'x-rgw-object-type': 'Normal',\n",
       "   'etag': '\"fecc39263771ebd53d9bd453ff3da01a\"',\n",
       "   'x-amz-request-id': 'tx000000000000019be71f0-0060c11cc3-6078b25f-default',\n",
       "   'content-type': 'binary/octet-stream',\n",
       "   'date': 'Wed, 09 Jun 2021 19:55:47 GMT',\n",
       "   'connection': 'Keep-Alive',\n",
       "   'strict-transport-security': 'max-age=31536000; includeSubDomains; preload'},\n",
       "  'RetryAttempts': 0},\n",
       " 'AcceptRanges': 'bytes',\n",
       " 'LastModified': datetime.datetime(2021, 6, 9, 19, 22, 31, tzinfo=tzutc()),\n",
       " 'ContentLength': 5017,\n",
       " 'ETag': '\"fecc39263771ebd53d9bd453ff3da01a\"',\n",
       " 'ContentType': 'binary/octet-stream',\n",
       " 'Metadata': {},\n",
       " 'Body': <botocore.response.StreamingBody at 0x7f1df6917a58>}"
      ]
     },
     "execution_count": 14,
     "metadata": {},
     "output_type": "execute_result"
    }
   ],
   "source": [
    "obj2"
   ]
  },
  {
   "cell_type": "code",
   "execution_count": 15,
   "metadata": {},
   "outputs": [],
   "source": [
    "data = obj1['Body'].read()"
   ]
  },
  {
   "cell_type": "code",
   "execution_count": 16,
   "metadata": {},
   "outputs": [
    {
     "data": {
      "text/plain": [
       "bytes"
      ]
     },
     "execution_count": 16,
     "metadata": {},
     "output_type": "execute_result"
    }
   ],
   "source": [
    "type(data)"
   ]
  },
  {
   "cell_type": "code",
   "execution_count": 17,
   "metadata": {},
   "outputs": [],
   "source": [
    "config_data = obj2['Body'].read()"
   ]
  },
  {
   "cell_type": "code",
   "execution_count": 18,
   "metadata": {},
   "outputs": [
    {
     "data": {
      "text/plain": [
       "b'{\"paths\": {\"train\": \"corpus/en-core-web/train.spacy\", \"dev\": \"corpus/en-core-web/dev.spacy\", \"vectors\": null, \"raw\": null, \"init_tok2vec\": null, \"vocab_data\": null}, \"system\": {\"gpu_allocator\": null, \"seed\": 0}, \"nlp\": {\"lang\": \"en\", \"pipeline\": [\"tok2vec\", \"tagger\", \"parser\", \"senter\", \"ner\", \"attribute_ruler\", \"lemmatizer\"], \"disabled\": [\"senter\"], \"before_creation\": null, \"after_creation\": null, \"after_pipeline_creation\": null, \"batch_size\": 256, \"tokenizer\": {\"@tokenizers\": \"spacy.Tokenizer.v1\"}}, \"components\": {\"tok2vec\": {\"factory\": \"tok2vec\", \"model\": {\"@architectures\": \"spacy.Tok2Vec.v1\", \"embed\": {\"@architectures\": \"spacy.MultiHashEmbed.v1\", \"width\": \"${components.tok2vec.model.encode:width}\", \"attrs\": [\"NORM\", \"PREFIX\", \"SUFFIX\", \"SHAPE\"], \"rows\": [5000, 2500, 2500, 2500], \"include_static_vectors\": false}, \"encode\": {\"@architectures\": \"spacy.MaxoutWindowEncoder.v1\", \"width\": 96, \"depth\": 4, \"window_size\": 1, \"maxout_pieces\": 3}}}, \"tagger\": {\"factory\": \"tagger\", \"model\": {\"@architectures\": \"spacy.Tagger.v1\", \"nO\": null, \"tok2vec\": {\"@architectures\": \"spacy.Tok2VecListener.v1\", \"width\": \"${components.tok2vec.model.encode:width}\", \"upstream\": \"*\"}}}, \"parser\": {\"factory\": \"parser\", \"learn_tokens\": false, \"min_action_freq\": 30, \"model\": {\"@architectures\": \"spacy.TransitionBasedParser.v2\", \"state_type\": \"parser\", \"extra_state_tokens\": false, \"hidden_width\": 64, \"maxout_pieces\": 2, \"use_upper\": true, \"nO\": null, \"tok2vec\": {\"@architectures\": \"spacy.Tok2VecListener.v1\", \"width\": \"${components.tok2vec.model.encode:width}\", \"upstream\": \"*\"}}, \"moves\": null, \"update_with_oracle_cut_size\": 100}, \"senter\": {\"factory\": \"senter\", \"model\": {\"@architectures\": \"spacy.Tagger.v1\", \"nO\": null, \"tok2vec\": {\"@architectures\": \"spacy.Tok2Vec.v1\", \"embed\": {\"@architectures\": \"spacy.MultiHashEmbed.v1\", \"width\": 16, \"attrs\": [\"NORM\", \"PREFIX\", \"SUFFIX\", \"SHAPE\"], \"rows\": [1000, 500, 500, 500], \"include_static_vectors\": false}, \"encode\": {\"@architectures\": \"spacy.MaxoutWindowEncoder.v1\", \"width\": 16, \"depth\": 2, \"window_size\": 1, \"maxout_pieces\": 2}}}}, \"ner\": {\"factory\": \"ner\", \"model\": {\"@architectures\": \"spacy.TransitionBasedParser.v2\", \"state_type\": \"ner\", \"extra_state_tokens\": false, \"hidden_width\": 64, \"maxout_pieces\": 2, \"use_upper\": true, \"nO\": null, \"tok2vec\": {\"@architectures\": \"spacy.Tok2Vec.v1\", \"embed\": {\"@architectures\": \"spacy.MultiHashEmbed.v1\", \"width\": 96, \"attrs\": [\"NORM\", \"PREFIX\", \"SUFFIX\", \"SHAPE\"], \"rows\": [5000, 2500, 2500, 2500], \"include_static_vectors\": false}, \"encode\": {\"@architectures\": \"spacy.MaxoutWindowEncoder.v1\", \"width\": 96, \"depth\": 4, \"window_size\": 1, \"maxout_pieces\": 3}}}, \"moves\": null, \"update_with_oracle_cut_size\": 100}, \"attribute_ruler\": {\"factory\": \"attribute_ruler\", \"validate\": false}, \"lemmatizer\": {\"factory\": \"lemmatizer\", \"mode\": \"rule\", \"model\": null, \"overwrite\": false}}, \"corpora\": {\"dev\": {\"@readers\": \"spacy.Corpus.v1\", \"limit\": 0, \"max_length\": 0, \"path\": \"${paths:dev}\", \"gold_preproc\": false, \"augmenter\": null}, \"train\": {\"@readers\": \"spacy.Corpus.v1\", \"path\": \"${paths:train}\", \"max_length\": 5000, \"gold_preproc\": false, \"limit\": 0, \"augmenter\": {\"@augmenters\": \"spacy.orth_variants.v1\", \"level\": 0.2, \"lower\": 0.5, \"orth_variants\": {\"@readers\": \"srsly.read_json.v1\", \"path\": \"assets/orth_variants.json\"}}}}, \"training\": {\"train_corpus\": \"corpora.train\", \"dev_corpus\": \"corpora.dev\", \"seed\": \"${system:seed}\", \"gpu_allocator\": \"${system:gpu_allocator}\", \"dropout\": 0.1, \"accumulate_gradient\": 1, \"patience\": 5000, \"max_epochs\": 0, \"max_steps\": 0, \"eval_frequency\": 1000, \"frozen_components\": [], \"before_to_disk\": null, \"batcher\": {\"@batchers\": \"spacy.batch_by_words.v1\", \"discard_oversize\": false, \"tolerance\": 0.2, \"get_length\": null, \"size\": {\"@schedules\": \"compounding.v1\", \"start\": 100, \"stop\": 1000, \"compound\": 1.001, \"t\": 0.0}}, \"logger\": {\"@loggers\": \"spacy.WandbLogger.v1\", \"project_name\": \"spacy-v3.0.0a2\", \"remove_config_values\": []}, \"optimizer\": {\"@optimizers\": \"Adam.v1\", \"beta1\": 0.9, \"beta2\": 0.999, \"L2_is_weight_decay\": true, \"L2\": 0.01, \"grad_clip\": 1.0, \"use_averages\": true, \"eps\": 1e-08, \"learn_rate\": 0.001}, \"score_weights\": {\"dep_las_per_type\": null, \"sents_p\": null, \"sents_r\": null, \"ents_per_type\": null, \"tag_acc\": 0.2, \"dep_uas\": 0.0, \"dep_las\": 0.04, \"sents_f\": 0.35, \"ents_f\": 0.2, \"ents_p\": 0.0, \"ents_r\": 0.0, \"lemma_acc\": 0.2}}, \"pretraining\": {}, \"initialize\": {\"vocab_data\": \"${paths.vocab_data}\", \"vectors\": \"${paths.vectors}\", \"init_tok2vec\": \"${paths.init_tok2vec}\", \"before_init\": null, \"after_init\": null, \"components\": {\"ner\": {\"labels\": {\"@readers\": \"spacy.read_labels.v1\", \"path\": \"corpus/labels/ner.json\", \"require\": false}}, \"parser\": {\"labels\": {\"@readers\": \"spacy.read_labels.v1\", \"path\": \"corpus/labels/parser.json\", \"require\": false}}, \"tagger\": {\"labels\": {\"@readers\": \"spacy.read_labels.v1\", \"path\": \"corpus/labels/tagger.json\", \"require\": false}}}, \"lookups\": {\"@misc\": \"spacy.LookupsDataLoader.v1\", \"lang\": \"${nlp.lang}\", \"tables\": [\"lexeme_norm\"]}, \"tokenizer\": {}}}'"
      ]
     },
     "execution_count": 18,
     "metadata": {},
     "output_type": "execute_result"
    }
   ],
   "source": [
    "config_data"
   ]
  },
  {
   "cell_type": "code",
   "execution_count": 19,
   "metadata": {},
   "outputs": [],
   "source": [
    "json_content = json.loads(config_data)"
   ]
  },
  {
   "cell_type": "code",
   "execution_count": 20,
   "metadata": {},
   "outputs": [
    {
     "data": {
      "text/plain": [
       "dict"
      ]
     },
     "execution_count": 20,
     "metadata": {},
     "output_type": "execute_result"
    }
   ],
   "source": [
    "type(json_content)"
   ]
  },
  {
   "cell_type": "code",
   "execution_count": 21,
   "metadata": {},
   "outputs": [
    {
     "data": {
      "text/plain": [
       "'en'"
      ]
     },
     "execution_count": 21,
     "metadata": {},
     "output_type": "execute_result"
    }
   ],
   "source": [
    "json_content[\"nlp\"][\"lang\"]"
   ]
  },
  {
   "cell_type": "code",
   "execution_count": 22,
   "metadata": {},
   "outputs": [
    {
     "data": {
      "text/plain": [
       "<spacy.lang.en.English at 0x7f1df68e96d8>"
      ]
     },
     "execution_count": 22,
     "metadata": {},
     "output_type": "execute_result"
    }
   ],
   "source": [
    "lang_cls = spacy.util.get_lang_class(json_content[\"nlp\"][\"lang\"])\n",
    "nlpx = lang_cls.from_config(json_content)\n",
    "nlpx.from_bytes(data)"
   ]
  },
  {
   "cell_type": "code",
   "execution_count": 23,
   "metadata": {},
   "outputs": [
    {
     "data": {
      "text/plain": [
       "[('IBM', 'ORG')]"
      ]
     },
     "execution_count": 23,
     "metadata": {},
     "output_type": "execute_result"
    }
   ],
   "source": [
    "doc = nlpx(\"IBM is an organization\")\n",
    "[(ent.text, ent.label_) for ent in doc.ents]"
   ]
  },
  {
   "cell_type": "markdown",
   "metadata": {},
   "source": [
    "## Predictor and Validator"
   ]
  },
  {
   "cell_type": "code",
   "execution_count": 24,
   "metadata": {},
   "outputs": [],
   "source": [
    "def predictor(feed_text):\n",
    "    \n",
    "    doc = nlp(feed_text)\n",
    "    return [(ent.text, ent.label_) for ent in doc.ents]"
   ]
  },
  {
   "cell_type": "code",
   "execution_count": 25,
   "metadata": {},
   "outputs": [],
   "source": [
    "def validator(x):\n",
    "    \n",
    "    return type(x) == str"
   ]
  }
 ],
 "metadata": {
  "kernelspec": {
   "display_name": "Python 3",
   "language": "python",
   "name": "python3"
  },
  "language_info": {
   "codemirror_mode": {
    "name": "ipython",
    "version": 3
   },
   "file_extension": ".py",
   "mimetype": "text/x-python",
   "name": "python",
   "nbconvert_exporter": "python",
   "pygments_lexer": "ipython3",
   "version": "3.6.3"
  }
 },
 "nbformat": 4,
 "nbformat_minor": 5
}
